{
  "nbformat": 4,
  "nbformat_minor": 0,
  "metadata": {
    "colab": {
      "provenance": [],
      "include_colab_link": true
    },
    "kernelspec": {
      "name": "python3",
      "display_name": "Python 3"
    },
    "language_info": {
      "name": "python"
    }
  },
  "cells": [
    {
      "cell_type": "markdown",
      "metadata": {
        "id": "view-in-github",
        "colab_type": "text"
      },
      "source": [
        "<a href=\"https://colab.research.google.com/github/srishtij02/Srishti-Jitpure-IBM-Project/blob/main/SrishtiJitpure_IBM_Project.ipynb\" target=\"_parent\"><img src=\"https://colab.research.google.com/assets/colab-badge.svg\" alt=\"Open In Colab\"/></a>"
      ]
    },
    {
      "cell_type": "code",
      "source": [
        "!pip install transformers ipywidgets\n"
      ],
      "metadata": {
        "id": "FdbTzAh1ucq6"
      },
      "execution_count": null,
      "outputs": []
    },
    {
      "cell_type": "code",
      "source": [
        "import torch\n",
        "from transformers import GPT2LMHeadModel, GPT2Tokenizer\n",
        "import ipywidgets as widgets\n",
        "from IPython.display import display\n",
        "\n",
        "# Load pre-trained model and tokenizer\n",
        "model_name = 'gpt2'\n",
        "tokenizer = GPT2Tokenizer.from_pretrained(model_name)\n",
        "model = GPT2LMHeadModel.from_pretrained(model_name)\n",
        "\n",
        "tokenizer.pad_token = tokenizer.eos_token\n",
        "\n",
        "# Define mode selection\n",
        "input_box = widgets.Textarea(\n",
        "    placeholder='Enter a sentence to complete...',\n",
        "    description='Input Sentence:',\n",
        "    layout={'width': '80%', 'height': '100px'}\n",
        ")\n",
        "\n",
        "# Define parameter controls\n",
        "temperature_slider = widgets.FloatSlider(\n",
        "    value=0.7,\n",
        "    min=0.5,\n",
        "    max=1.5,\n",
        "    step=0.1,\n",
        "    description='Temperature:',\n",
        ")\n",
        "\n",
        "repetition_slider = widgets.FloatSlider(\n",
        "    value=1.5,\n",
        "    min=1.0,\n",
        "    max=2.0,\n",
        "    step=0.1,\n",
        "    description='Repetition Penalty:',\n",
        ")\n",
        "\n",
        "# Define output widget\n",
        "output_box = widgets.Textarea(\n",
        "    value='',\n",
        "    placeholder='Model output will appear here...',\n",
        "    description='Completed Sentence:',\n",
        "    layout={'width': '80%', 'height': '100px'},\n",
        "    disabled=True\n",
        ")\n",
        "\n",
        "# Define generation function\n",
        "def complete_sentence(_):\n",
        "    prompt = input_box.value.strip()\n",
        "    temperature = temperature_slider.value\n",
        "    repetition_penalty = repetition_slider.value\n",
        "\n",
        "    if not prompt:\n",
        "        output_box.value = \"Please enter a sentence to complete.\"\n",
        "        return\n",
        "\n",
        "    inputs = tokenizer(prompt, return_tensors='pt')\n",
        "\n",
        "    outputs = model.generate(\n",
        "        inputs['input_ids'],\n",
        "        temperature=temperature,\n",
        "        repetition_penalty=repetition_penalty,\n",
        "        pad_token_id=tokenizer.pad_token_id,\n",
        "        num_return_sequences=1,\n",
        "        do_sample=True,\n",
        "        eos_token_id=tokenizer.encode('.')[0],\n",
        "        max_length=50,\n",
        "    )\n",
        "    completed_text = tokenizer.decode(outputs[0], skip_special_tokens=True)\n",
        "\n",
        "    if not completed_text.endswith('.'):\n",
        "        completed_text += '.'\n",
        "\n",
        "    completed_text = completed_text.replace(prompt, prompt.strip(), 1)\n",
        "\n",
        "    output_box.value = completed_text\n",
        "\n",
        "# Define generate button\n",
        "generate_button = widgets.Button(\n",
        "    description='Complete Sentence',\n",
        "    button_style='success'\n",
        ")\n",
        "generate_button.on_click(complete_sentence)\n",
        "\n",
        "# Display widgets\n",
        "display(input_box, temperature_slider, repetition_slider, generate_button, output_box)"
      ],
      "metadata": {
        "id": "32GaB8DhZTHj"
      },
      "execution_count": null,
      "outputs": []
    }
  ]
}